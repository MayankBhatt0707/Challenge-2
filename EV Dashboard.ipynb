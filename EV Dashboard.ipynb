{
 "cells": [
  {
   "cell_type": "markdown",
   "id": "8ed7d41d-69ba-4845-bf5c-32e210874eb0",
   "metadata": {},
   "source": [
    "# Electric Vehicles Sales Dashboard"
   ]
  },
  {
   "cell_type": "markdown",
   "id": "dbe030d6-4d5a-4f15-b198-cce8379d854a",
   "metadata": {},
   "source": [
    "### Import Libraries & Set Deisplay Options"
   ]
  },
  {
   "cell_type": "code",
   "execution_count": 1,
   "id": "72070e90-2fd0-4a22-8ddf-3a0e4028b7cd",
   "metadata": {},
   "outputs": [],
   "source": [
    "import pandas as pd\n",
    "pd.set_option('display.max_columns', None)\n",
    "import matplotlib.pyplot as plt\n",
    "import pymysql\n",
    "import warnings\n",
    "warnings.filterwarnings(\"ignore\")"
   ]
  },
  {
   "cell_type": "markdown",
   "id": "adec3582-ca5d-4b6c-bd01-0c5cb38bdb2e",
   "metadata": {},
   "source": [
    "### Connect to MySQL Dataframe"
   ]
  },
  {
   "cell_type": "code",
   "execution_count": 2,
   "id": "47849d37-fcf4-4835-bd09-f4f5fd6f8324",
   "metadata": {},
   "outputs": [],
   "source": [
    "df = pymysql.connect(user = 'root', password = '123456', host = 'localhost', database = 'electricvehicles')"
   ]
  },
  {
   "cell_type": "markdown",
   "id": "7a63c2e9-1b2e-441c-bce1-d6d83e939b3a",
   "metadata": {},
   "source": [
    "### Importing Tables"
   ]
  },
  {
   "cell_type": "code",
   "execution_count": 3,
   "id": "73bf1b01-fb20-4513-8b5b-644682a09c43",
   "metadata": {},
   "outputs": [],
   "source": [
    "dateTable = pd.read_sql(\"select * from dim_date\", df)\n",
    "electricVehiclesbyMakers = pd.read_sql(\"select * from electric_vehicle_sales_by_makers\", df)\n",
    "electricVehiclesbyStates = pd.read_sql(\"select * from electric_vehicle_sales_by_state\", df)"
   ]
  },
  {
   "cell_type": "markdown",
   "id": "5ce917cc-b6aa-4f44-b99b-74b1f28dc670",
   "metadata": {},
   "source": [
    "### Data Wrangling"
   ]
  },
  {
   "cell_type": "code",
   "execution_count": 4,
   "id": "784082db-1a7c-4bb1-972c-f204b36e665d",
   "metadata": {},
   "outputs": [
    {
     "data": {
      "text/html": [
       "<div>\n",
       "<style scoped>\n",
       "    .dataframe tbody tr th:only-of-type {\n",
       "        vertical-align: middle;\n",
       "    }\n",
       "\n",
       "    .dataframe tbody tr th {\n",
       "        vertical-align: top;\n",
       "    }\n",
       "\n",
       "    .dataframe thead th {\n",
       "        text-align: right;\n",
       "    }\n",
       "</style>\n",
       "<table border=\"1\" class=\"dataframe\">\n",
       "  <thead>\n",
       "    <tr style=\"text-align: right;\">\n",
       "      <th></th>\n",
       "      <th>ï»¿date</th>\n",
       "      <th>fiscal_year</th>\n",
       "      <th>quarter</th>\n",
       "    </tr>\n",
       "  </thead>\n",
       "  <tbody>\n",
       "    <tr>\n",
       "      <th>0</th>\n",
       "      <td>01-Apr-21</td>\n",
       "      <td>2022</td>\n",
       "      <td>Q1</td>\n",
       "    </tr>\n",
       "    <tr>\n",
       "      <th>1</th>\n",
       "      <td>01-May-21</td>\n",
       "      <td>2022</td>\n",
       "      <td>Q1</td>\n",
       "    </tr>\n",
       "    <tr>\n",
       "      <th>2</th>\n",
       "      <td>01-Jun-21</td>\n",
       "      <td>2022</td>\n",
       "      <td>Q1</td>\n",
       "    </tr>\n",
       "    <tr>\n",
       "      <th>3</th>\n",
       "      <td>01-Jul-21</td>\n",
       "      <td>2022</td>\n",
       "      <td>Q2</td>\n",
       "    </tr>\n",
       "    <tr>\n",
       "      <th>4</th>\n",
       "      <td>01-Aug-21</td>\n",
       "      <td>2022</td>\n",
       "      <td>Q2</td>\n",
       "    </tr>\n",
       "  </tbody>\n",
       "</table>\n",
       "</div>"
      ],
      "text/plain": [
       "     ï»¿date  fiscal_year quarter\n",
       "0  01-Apr-21         2022      Q1\n",
       "1  01-May-21         2022      Q1\n",
       "2  01-Jun-21         2022      Q1\n",
       "3  01-Jul-21         2022      Q2\n",
       "4  01-Aug-21         2022      Q2"
      ]
     },
     "execution_count": 4,
     "metadata": {},
     "output_type": "execute_result"
    }
   ],
   "source": [
    "dateTable.head()"
   ]
  },
  {
   "cell_type": "code",
   "execution_count": 5,
   "id": "9c93232b-9a53-45a7-b3be-463dc0bed5cd",
   "metadata": {},
   "outputs": [
    {
     "name": "stdout",
     "output_type": "stream",
     "text": [
      "<class 'pandas.core.frame.DataFrame'>\n",
      "RangeIndex: 36 entries, 0 to 35\n",
      "Data columns (total 3 columns):\n",
      " #   Column       Non-Null Count  Dtype \n",
      "---  ------       --------------  ----- \n",
      " 0   ï»¿date      36 non-null     object\n",
      " 1   fiscal_year  36 non-null     int64 \n",
      " 2   quarter      36 non-null     object\n",
      "dtypes: int64(1), object(2)\n",
      "memory usage: 996.0+ bytes\n"
     ]
    }
   ],
   "source": [
    "dateTable.info()"
   ]
  },
  {
   "cell_type": "code",
   "execution_count": 6,
   "id": "c85cb659-796e-492a-a70a-aace90577625",
   "metadata": {
    "scrolled": true
   },
   "outputs": [],
   "source": [
    "dateTable.rename(columns = {\"ï»¿date\" : \"date\"}, inplace = True)"
   ]
  },
  {
   "cell_type": "code",
   "execution_count": 7,
   "id": "2714130b-da10-4e05-a297-a85da12541ce",
   "metadata": {},
   "outputs": [
    {
     "name": "stdout",
     "output_type": "stream",
     "text": [
      "datetime64[ns]\n"
     ]
    }
   ],
   "source": [
    "dateTable.date = pd.to_datetime(dateTable['date'], format = \"%d-%b-%y\" )\n",
    "print(dateTable.date.dtype)"
   ]
  },
  {
   "cell_type": "code",
   "execution_count": 8,
   "id": "dc25e61d-a785-40cc-8bc0-c7b6ae63782a",
   "metadata": {},
   "outputs": [
    {
     "data": {
      "text/html": [
       "<div>\n",
       "<style scoped>\n",
       "    .dataframe tbody tr th:only-of-type {\n",
       "        vertical-align: middle;\n",
       "    }\n",
       "\n",
       "    .dataframe tbody tr th {\n",
       "        vertical-align: top;\n",
       "    }\n",
       "\n",
       "    .dataframe thead th {\n",
       "        text-align: right;\n",
       "    }\n",
       "</style>\n",
       "<table border=\"1\" class=\"dataframe\">\n",
       "  <thead>\n",
       "    <tr style=\"text-align: right;\">\n",
       "      <th></th>\n",
       "      <th>date</th>\n",
       "      <th>fiscal_year</th>\n",
       "    </tr>\n",
       "  </thead>\n",
       "  <tbody>\n",
       "    <tr>\n",
       "      <th>count</th>\n",
       "      <td>36</td>\n",
       "      <td>36.000000</td>\n",
       "    </tr>\n",
       "    <tr>\n",
       "      <th>mean</th>\n",
       "      <td>2022-09-15 18:40:00</td>\n",
       "      <td>2023.000000</td>\n",
       "    </tr>\n",
       "    <tr>\n",
       "      <th>min</th>\n",
       "      <td>2021-04-01 00:00:00</td>\n",
       "      <td>2022.000000</td>\n",
       "    </tr>\n",
       "    <tr>\n",
       "      <th>25%</th>\n",
       "      <td>2021-12-24 06:00:00</td>\n",
       "      <td>2022.000000</td>\n",
       "    </tr>\n",
       "    <tr>\n",
       "      <th>50%</th>\n",
       "      <td>2022-09-16 00:00:00</td>\n",
       "      <td>2023.000000</td>\n",
       "    </tr>\n",
       "    <tr>\n",
       "      <th>75%</th>\n",
       "      <td>2023-06-08 12:00:00</td>\n",
       "      <td>2024.000000</td>\n",
       "    </tr>\n",
       "    <tr>\n",
       "      <th>max</th>\n",
       "      <td>2024-03-01 00:00:00</td>\n",
       "      <td>2024.000000</td>\n",
       "    </tr>\n",
       "    <tr>\n",
       "      <th>std</th>\n",
       "      <td>NaN</td>\n",
       "      <td>0.828079</td>\n",
       "    </tr>\n",
       "  </tbody>\n",
       "</table>\n",
       "</div>"
      ],
      "text/plain": [
       "                      date  fiscal_year\n",
       "count                   36    36.000000\n",
       "mean   2022-09-15 18:40:00  2023.000000\n",
       "min    2021-04-01 00:00:00  2022.000000\n",
       "25%    2021-12-24 06:00:00  2022.000000\n",
       "50%    2022-09-16 00:00:00  2023.000000\n",
       "75%    2023-06-08 12:00:00  2024.000000\n",
       "max    2024-03-01 00:00:00  2024.000000\n",
       "std                    NaN     0.828079"
      ]
     },
     "execution_count": 8,
     "metadata": {},
     "output_type": "execute_result"
    }
   ],
   "source": [
    "dateTable.describe()"
   ]
  },
  {
   "cell_type": "code",
   "execution_count": 9,
   "id": "c6912ee8-2442-409c-ba4a-76cb75ded925",
   "metadata": {},
   "outputs": [],
   "source": [
    "dateTable[\"month no\"] = dateTable.date.dt.month"
   ]
  },
  {
   "cell_type": "code",
   "execution_count": 10,
   "id": "915bb7a4-efe7-40fe-ab9c-92b25c95c39c",
   "metadata": {},
   "outputs": [],
   "source": [
    "dateTable[\"month name\"] = dateTable.date.dt.month_name().str[:3]"
   ]
  },
  {
   "cell_type": "code",
   "execution_count": 11,
   "id": "4b641707-4253-4d9b-b646-416052876c11",
   "metadata": {},
   "outputs": [
    {
     "data": {
      "text/html": [
       "<div>\n",
       "<style scoped>\n",
       "    .dataframe tbody tr th:only-of-type {\n",
       "        vertical-align: middle;\n",
       "    }\n",
       "\n",
       "    .dataframe tbody tr th {\n",
       "        vertical-align: top;\n",
       "    }\n",
       "\n",
       "    .dataframe thead th {\n",
       "        text-align: right;\n",
       "    }\n",
       "</style>\n",
       "<table border=\"1\" class=\"dataframe\">\n",
       "  <thead>\n",
       "    <tr style=\"text-align: right;\">\n",
       "      <th></th>\n",
       "      <th>date</th>\n",
       "      <th>fiscal_year</th>\n",
       "      <th>quarter</th>\n",
       "      <th>month no</th>\n",
       "      <th>month name</th>\n",
       "    </tr>\n",
       "  </thead>\n",
       "  <tbody>\n",
       "    <tr>\n",
       "      <th>0</th>\n",
       "      <td>2021-04-01</td>\n",
       "      <td>2022</td>\n",
       "      <td>Q1</td>\n",
       "      <td>4</td>\n",
       "      <td>Apr</td>\n",
       "    </tr>\n",
       "    <tr>\n",
       "      <th>1</th>\n",
       "      <td>2021-05-01</td>\n",
       "      <td>2022</td>\n",
       "      <td>Q1</td>\n",
       "      <td>5</td>\n",
       "      <td>May</td>\n",
       "    </tr>\n",
       "    <tr>\n",
       "      <th>2</th>\n",
       "      <td>2021-06-01</td>\n",
       "      <td>2022</td>\n",
       "      <td>Q1</td>\n",
       "      <td>6</td>\n",
       "      <td>Jun</td>\n",
       "    </tr>\n",
       "    <tr>\n",
       "      <th>3</th>\n",
       "      <td>2021-07-01</td>\n",
       "      <td>2022</td>\n",
       "      <td>Q2</td>\n",
       "      <td>7</td>\n",
       "      <td>Jul</td>\n",
       "    </tr>\n",
       "    <tr>\n",
       "      <th>4</th>\n",
       "      <td>2021-08-01</td>\n",
       "      <td>2022</td>\n",
       "      <td>Q2</td>\n",
       "      <td>8</td>\n",
       "      <td>Aug</td>\n",
       "    </tr>\n",
       "  </tbody>\n",
       "</table>\n",
       "</div>"
      ],
      "text/plain": [
       "        date  fiscal_year quarter  month no month name\n",
       "0 2021-04-01         2022      Q1         4        Apr\n",
       "1 2021-05-01         2022      Q1         5        May\n",
       "2 2021-06-01         2022      Q1         6        Jun\n",
       "3 2021-07-01         2022      Q2         7        Jul\n",
       "4 2021-08-01         2022      Q2         8        Aug"
      ]
     },
     "execution_count": 11,
     "metadata": {},
     "output_type": "execute_result"
    }
   ],
   "source": [
    "dateTable.head()"
   ]
  },
  {
   "cell_type": "code",
   "execution_count": 12,
   "id": "b1b397d1-41db-4772-af06-e01a346fdba5",
   "metadata": {},
   "outputs": [
    {
     "data": {
      "text/plain": [
       "(816, 4)"
      ]
     },
     "execution_count": 12,
     "metadata": {},
     "output_type": "execute_result"
    }
   ],
   "source": [
    "electricVehiclesbyMakers.shape"
   ]
  },
  {
   "cell_type": "code",
   "execution_count": 13,
   "id": "c67ac520-43bf-4e37-9484-963ec5e24e60",
   "metadata": {},
   "outputs": [
    {
     "data": {
      "text/html": [
       "<div>\n",
       "<style scoped>\n",
       "    .dataframe tbody tr th:only-of-type {\n",
       "        vertical-align: middle;\n",
       "    }\n",
       "\n",
       "    .dataframe tbody tr th {\n",
       "        vertical-align: top;\n",
       "    }\n",
       "\n",
       "    .dataframe thead th {\n",
       "        text-align: right;\n",
       "    }\n",
       "</style>\n",
       "<table border=\"1\" class=\"dataframe\">\n",
       "  <thead>\n",
       "    <tr style=\"text-align: right;\">\n",
       "      <th></th>\n",
       "      <th>electric_vehicles_sold</th>\n",
       "    </tr>\n",
       "  </thead>\n",
       "  <tbody>\n",
       "    <tr>\n",
       "      <th>count</th>\n",
       "      <td>816.000000</td>\n",
       "    </tr>\n",
       "    <tr>\n",
       "      <th>mean</th>\n",
       "      <td>2531.998775</td>\n",
       "    </tr>\n",
       "    <tr>\n",
       "      <th>std</th>\n",
       "      <td>4771.077333</td>\n",
       "    </tr>\n",
       "    <tr>\n",
       "      <th>min</th>\n",
       "      <td>0.000000</td>\n",
       "    </tr>\n",
       "    <tr>\n",
       "      <th>25%</th>\n",
       "      <td>42.000000</td>\n",
       "    </tr>\n",
       "    <tr>\n",
       "      <th>50%</th>\n",
       "      <td>662.000000</td>\n",
       "    </tr>\n",
       "    <tr>\n",
       "      <th>75%</th>\n",
       "      <td>2636.500000</td>\n",
       "    </tr>\n",
       "    <tr>\n",
       "      <th>max</th>\n",
       "      <td>44630.000000</td>\n",
       "    </tr>\n",
       "  </tbody>\n",
       "</table>\n",
       "</div>"
      ],
      "text/plain": [
       "       electric_vehicles_sold\n",
       "count              816.000000\n",
       "mean              2531.998775\n",
       "std               4771.077333\n",
       "min                  0.000000\n",
       "25%                 42.000000\n",
       "50%                662.000000\n",
       "75%               2636.500000\n",
       "max              44630.000000"
      ]
     },
     "execution_count": 13,
     "metadata": {},
     "output_type": "execute_result"
    }
   ],
   "source": [
    "electricVehiclesbyMakers.describe()"
   ]
  },
  {
   "cell_type": "code",
   "execution_count": 14,
   "id": "9ab14d6d-1f61-4250-8379-7f2623ffd5c8",
   "metadata": {},
   "outputs": [
    {
     "data": {
      "text/html": [
       "<div>\n",
       "<style scoped>\n",
       "    .dataframe tbody tr th:only-of-type {\n",
       "        vertical-align: middle;\n",
       "    }\n",
       "\n",
       "    .dataframe tbody tr th {\n",
       "        vertical-align: top;\n",
       "    }\n",
       "\n",
       "    .dataframe thead th {\n",
       "        text-align: right;\n",
       "    }\n",
       "</style>\n",
       "<table border=\"1\" class=\"dataframe\">\n",
       "  <thead>\n",
       "    <tr style=\"text-align: right;\">\n",
       "      <th></th>\n",
       "      <th>ï»¿date</th>\n",
       "      <th>vehicle_category</th>\n",
       "      <th>maker</th>\n",
       "      <th>electric_vehicles_sold</th>\n",
       "    </tr>\n",
       "  </thead>\n",
       "  <tbody>\n",
       "    <tr>\n",
       "      <th>0</th>\n",
       "      <td>01-Apr-21</td>\n",
       "      <td>2-Wheelers</td>\n",
       "      <td>OLA ELECTRIC</td>\n",
       "      <td>0</td>\n",
       "    </tr>\n",
       "    <tr>\n",
       "      <th>1</th>\n",
       "      <td>01-Apr-22</td>\n",
       "      <td>2-Wheelers</td>\n",
       "      <td>OKAYA EV</td>\n",
       "      <td>0</td>\n",
       "    </tr>\n",
       "    <tr>\n",
       "      <th>2</th>\n",
       "      <td>01-May-21</td>\n",
       "      <td>2-Wheelers</td>\n",
       "      <td>OLA ELECTRIC</td>\n",
       "      <td>0</td>\n",
       "    </tr>\n",
       "    <tr>\n",
       "      <th>3</th>\n",
       "      <td>01-Jun-21</td>\n",
       "      <td>2-Wheelers</td>\n",
       "      <td>OLA ELECTRIC</td>\n",
       "      <td>0</td>\n",
       "    </tr>\n",
       "    <tr>\n",
       "      <th>4</th>\n",
       "      <td>01-Jul-21</td>\n",
       "      <td>2-Wheelers</td>\n",
       "      <td>OLA ELECTRIC</td>\n",
       "      <td>0</td>\n",
       "    </tr>\n",
       "  </tbody>\n",
       "</table>\n",
       "</div>"
      ],
      "text/plain": [
       "     ï»¿date vehicle_category         maker  electric_vehicles_sold\n",
       "0  01-Apr-21       2-Wheelers  OLA ELECTRIC                       0\n",
       "1  01-Apr-22       2-Wheelers      OKAYA EV                       0\n",
       "2  01-May-21       2-Wheelers  OLA ELECTRIC                       0\n",
       "3  01-Jun-21       2-Wheelers  OLA ELECTRIC                       0\n",
       "4  01-Jul-21       2-Wheelers  OLA ELECTRIC                       0"
      ]
     },
     "execution_count": 14,
     "metadata": {},
     "output_type": "execute_result"
    }
   ],
   "source": [
    "electricVehiclesbyMakers.head()"
   ]
  },
  {
   "cell_type": "code",
   "execution_count": 15,
   "id": "799b309d-c6fb-4824-9b54-48f99216b01e",
   "metadata": {},
   "outputs": [],
   "source": [
    "electricVehiclesbyMakers.rename(columns = {\"ï»¿date\" : \"date\"}, inplace = True)"
   ]
  },
  {
   "cell_type": "code",
   "execution_count": 16,
   "id": "4ef8fd63-7041-44f7-b759-879d1a8ed783",
   "metadata": {},
   "outputs": [
    {
     "name": "stdout",
     "output_type": "stream",
     "text": [
      "<class 'pandas.core.frame.DataFrame'>\n",
      "RangeIndex: 816 entries, 0 to 815\n",
      "Data columns (total 4 columns):\n",
      " #   Column                  Non-Null Count  Dtype \n",
      "---  ------                  --------------  ----- \n",
      " 0   date                    816 non-null    object\n",
      " 1   vehicle_category        816 non-null    object\n",
      " 2   maker                   816 non-null    object\n",
      " 3   electric_vehicles_sold  816 non-null    int64 \n",
      "dtypes: int64(1), object(3)\n",
      "memory usage: 25.6+ KB\n"
     ]
    }
   ],
   "source": [
    "electricVehiclesbyMakers.info()"
   ]
  },
  {
   "cell_type": "code",
   "execution_count": 17,
   "id": "bb470d1a-c316-4b8b-a592-3fdf82ba2195",
   "metadata": {},
   "outputs": [],
   "source": [
    "electricVehiclesbyMakers['date'] = pd.to_datetime(electricVehiclesbyMakers.date, format = \"%d-%b-%y\")"
   ]
  },
  {
   "cell_type": "code",
   "execution_count": 18,
   "id": "44ae1080-7725-4257-89b4-6ce5f59f8222",
   "metadata": {},
   "outputs": [
    {
     "name": "stdout",
     "output_type": "stream",
     "text": [
      "datetime64[ns]\n"
     ]
    }
   ],
   "source": [
    "print(electricVehiclesbyMakers.date.dtype)"
   ]
  },
  {
   "cell_type": "code",
   "execution_count": 19,
   "id": "6f3cf788-d8dc-4353-b94e-868d40995cee",
   "metadata": {},
   "outputs": [],
   "source": [
    "electricVehiclesbyMakers.maker = electricVehiclesbyMakers.maker.str.title()"
   ]
  },
  {
   "cell_type": "code",
   "execution_count": 20,
   "id": "91a6d17f-94b9-47e4-9629-22632ecb4521",
   "metadata": {},
   "outputs": [
    {
     "data": {
      "text/html": [
       "<div>\n",
       "<style scoped>\n",
       "    .dataframe tbody tr th:only-of-type {\n",
       "        vertical-align: middle;\n",
       "    }\n",
       "\n",
       "    .dataframe tbody tr th {\n",
       "        vertical-align: top;\n",
       "    }\n",
       "\n",
       "    .dataframe thead th {\n",
       "        text-align: right;\n",
       "    }\n",
       "</style>\n",
       "<table border=\"1\" class=\"dataframe\">\n",
       "  <thead>\n",
       "    <tr style=\"text-align: right;\">\n",
       "      <th></th>\n",
       "      <th>date</th>\n",
       "      <th>vehicle_category</th>\n",
       "      <th>maker</th>\n",
       "      <th>electric_vehicles_sold</th>\n",
       "    </tr>\n",
       "  </thead>\n",
       "  <tbody>\n",
       "    <tr>\n",
       "      <th>0</th>\n",
       "      <td>2021-04-01</td>\n",
       "      <td>2-Wheelers</td>\n",
       "      <td>Ola Electric</td>\n",
       "      <td>0</td>\n",
       "    </tr>\n",
       "    <tr>\n",
       "      <th>1</th>\n",
       "      <td>2022-04-01</td>\n",
       "      <td>2-Wheelers</td>\n",
       "      <td>Okaya Ev</td>\n",
       "      <td>0</td>\n",
       "    </tr>\n",
       "    <tr>\n",
       "      <th>2</th>\n",
       "      <td>2021-05-01</td>\n",
       "      <td>2-Wheelers</td>\n",
       "      <td>Ola Electric</td>\n",
       "      <td>0</td>\n",
       "    </tr>\n",
       "    <tr>\n",
       "      <th>3</th>\n",
       "      <td>2021-06-01</td>\n",
       "      <td>2-Wheelers</td>\n",
       "      <td>Ola Electric</td>\n",
       "      <td>0</td>\n",
       "    </tr>\n",
       "    <tr>\n",
       "      <th>4</th>\n",
       "      <td>2021-07-01</td>\n",
       "      <td>2-Wheelers</td>\n",
       "      <td>Ola Electric</td>\n",
       "      <td>0</td>\n",
       "    </tr>\n",
       "  </tbody>\n",
       "</table>\n",
       "</div>"
      ],
      "text/plain": [
       "        date vehicle_category         maker  electric_vehicles_sold\n",
       "0 2021-04-01       2-Wheelers  Ola Electric                       0\n",
       "1 2022-04-01       2-Wheelers      Okaya Ev                       0\n",
       "2 2021-05-01       2-Wheelers  Ola Electric                       0\n",
       "3 2021-06-01       2-Wheelers  Ola Electric                       0\n",
       "4 2021-07-01       2-Wheelers  Ola Electric                       0"
      ]
     },
     "execution_count": 20,
     "metadata": {},
     "output_type": "execute_result"
    }
   ],
   "source": [
    "electricVehiclesbyMakers.head()"
   ]
  },
  {
   "cell_type": "code",
   "execution_count": 21,
   "id": "0fc60dd3-1f80-4455-b592-f01a40eb884e",
   "metadata": {},
   "outputs": [
    {
     "data": {
      "text/plain": [
       "26"
      ]
     },
     "execution_count": 21,
     "metadata": {},
     "output_type": "execute_result"
    }
   ],
   "source": [
    "electricVehiclesbyMakers.maker.nunique()"
   ]
  },
  {
   "cell_type": "code",
   "execution_count": 22,
   "id": "b4593693-5dec-462d-826d-81643e0d3c38",
   "metadata": {
    "scrolled": true
   },
   "outputs": [
    {
     "name": "stdout",
     "output_type": "stream",
     "text": [
      "Ola Electric\n",
      "Okaya Ev\n",
      "Byd India\n",
      "Pca Automobiles\n",
      "Bmw India\n",
      "Volvo Auto India\n",
      "Kia Motors\n",
      "Mercedes -Benz Ag\n",
      "Tata Motors\n",
      "Mg Motor\n",
      "Mahindra & Mahindra\n",
      "Hyundai Motor\n",
      "Hero Electric\n",
      "Okinawa\n",
      "Ampere\n",
      "Ather\n",
      "Pure Ev\n",
      "Tvs\n",
      "Revolt\n",
      "Bajaj\n",
      "Being\n",
      "Jitendra\n",
      "Others\n",
      "Bgauss\n",
      "Battre Electric\n",
      "Kinetic Green\n"
     ]
    }
   ],
   "source": [
    "for maker in electricVehiclesbyMakers.maker.unique():\n",
    "    print(maker, end = \"\\n\")"
   ]
  },
  {
   "cell_type": "code",
   "execution_count": 23,
   "id": "2036e314-c034-48cd-9c7f-fadd10d5b943",
   "metadata": {},
   "outputs": [
    {
     "data": {
      "text/html": [
       "<div>\n",
       "<style scoped>\n",
       "    .dataframe tbody tr th:only-of-type {\n",
       "        vertical-align: middle;\n",
       "    }\n",
       "\n",
       "    .dataframe tbody tr th {\n",
       "        vertical-align: top;\n",
       "    }\n",
       "\n",
       "    .dataframe thead th {\n",
       "        text-align: right;\n",
       "    }\n",
       "</style>\n",
       "<table border=\"1\" class=\"dataframe\">\n",
       "  <thead>\n",
       "    <tr style=\"text-align: right;\">\n",
       "      <th></th>\n",
       "      <th>ï»¿date</th>\n",
       "      <th>state</th>\n",
       "      <th>vehicle_category</th>\n",
       "      <th>electric_vehicles_sold</th>\n",
       "      <th>total_vehicles_sold</th>\n",
       "    </tr>\n",
       "  </thead>\n",
       "  <tbody>\n",
       "    <tr>\n",
       "      <th>0</th>\n",
       "      <td>01-Apr-21</td>\n",
       "      <td>Sikkim</td>\n",
       "      <td>2-Wheelers</td>\n",
       "      <td>0</td>\n",
       "      <td>398</td>\n",
       "    </tr>\n",
       "    <tr>\n",
       "      <th>1</th>\n",
       "      <td>01-Apr-21</td>\n",
       "      <td>Sikkim</td>\n",
       "      <td>4-Wheelers</td>\n",
       "      <td>0</td>\n",
       "      <td>361</td>\n",
       "    </tr>\n",
       "    <tr>\n",
       "      <th>2</th>\n",
       "      <td>01-May-21</td>\n",
       "      <td>Sikkim</td>\n",
       "      <td>2-Wheelers</td>\n",
       "      <td>0</td>\n",
       "      <td>113</td>\n",
       "    </tr>\n",
       "    <tr>\n",
       "      <th>3</th>\n",
       "      <td>01-May-21</td>\n",
       "      <td>Sikkim</td>\n",
       "      <td>4-Wheelers</td>\n",
       "      <td>0</td>\n",
       "      <td>98</td>\n",
       "    </tr>\n",
       "    <tr>\n",
       "      <th>4</th>\n",
       "      <td>01-Jun-21</td>\n",
       "      <td>Sikkim</td>\n",
       "      <td>2-Wheelers</td>\n",
       "      <td>0</td>\n",
       "      <td>229</td>\n",
       "    </tr>\n",
       "  </tbody>\n",
       "</table>\n",
       "</div>"
      ],
      "text/plain": [
       "     ï»¿date   state vehicle_category  electric_vehicles_sold  \\\n",
       "0  01-Apr-21  Sikkim       2-Wheelers                       0   \n",
       "1  01-Apr-21  Sikkim       4-Wheelers                       0   \n",
       "2  01-May-21  Sikkim       2-Wheelers                       0   \n",
       "3  01-May-21  Sikkim       4-Wheelers                       0   \n",
       "4  01-Jun-21  Sikkim       2-Wheelers                       0   \n",
       "\n",
       "   total_vehicles_sold  \n",
       "0                  398  \n",
       "1                  361  \n",
       "2                  113  \n",
       "3                   98  \n",
       "4                  229  "
      ]
     },
     "execution_count": 23,
     "metadata": {},
     "output_type": "execute_result"
    }
   ],
   "source": [
    "electricVehiclesbyStates.head()"
   ]
  },
  {
   "cell_type": "code",
   "execution_count": 24,
   "id": "e36b4d46-c26f-449e-bd2b-9d37e8a400e2",
   "metadata": {},
   "outputs": [
    {
     "data": {
      "text/html": [
       "<div>\n",
       "<style scoped>\n",
       "    .dataframe tbody tr th:only-of-type {\n",
       "        vertical-align: middle;\n",
       "    }\n",
       "\n",
       "    .dataframe tbody tr th {\n",
       "        vertical-align: top;\n",
       "    }\n",
       "\n",
       "    .dataframe thead th {\n",
       "        text-align: right;\n",
       "    }\n",
       "</style>\n",
       "<table border=\"1\" class=\"dataframe\">\n",
       "  <thead>\n",
       "    <tr style=\"text-align: right;\">\n",
       "      <th></th>\n",
       "      <th>ï»¿date</th>\n",
       "      <th>state</th>\n",
       "      <th>vehicle_category</th>\n",
       "    </tr>\n",
       "  </thead>\n",
       "  <tbody>\n",
       "    <tr>\n",
       "      <th>count</th>\n",
       "      <td>2445</td>\n",
       "      <td>2445</td>\n",
       "      <td>2445</td>\n",
       "    </tr>\n",
       "    <tr>\n",
       "      <th>unique</th>\n",
       "      <td>36</td>\n",
       "      <td>35</td>\n",
       "      <td>2</td>\n",
       "    </tr>\n",
       "    <tr>\n",
       "      <th>top</th>\n",
       "      <td>01-Apr-21</td>\n",
       "      <td>Sikkim</td>\n",
       "      <td>2-Wheelers</td>\n",
       "    </tr>\n",
       "    <tr>\n",
       "      <th>freq</th>\n",
       "      <td>68</td>\n",
       "      <td>72</td>\n",
       "      <td>1223</td>\n",
       "    </tr>\n",
       "  </tbody>\n",
       "</table>\n",
       "</div>"
      ],
      "text/plain": [
       "          ï»¿date   state vehicle_category\n",
       "count        2445    2445             2445\n",
       "unique         36      35                2\n",
       "top     01-Apr-21  Sikkim       2-Wheelers\n",
       "freq           68      72             1223"
      ]
     },
     "execution_count": 24,
     "metadata": {},
     "output_type": "execute_result"
    }
   ],
   "source": [
    "electricVehiclesbyStates.describe(include = \"object\")"
   ]
  },
  {
   "cell_type": "code",
   "execution_count": 25,
   "id": "26cadd32-8871-497b-93f7-e8be77e34616",
   "metadata": {},
   "outputs": [],
   "source": [
    "electricVehiclesbyStates.rename({\"ï»¿date\" : \"date\"}, axis = 1, inplace = True)"
   ]
  },
  {
   "cell_type": "code",
   "execution_count": 26,
   "id": "720254ee-a4fd-487a-b2f3-f3fd64b817e7",
   "metadata": {},
   "outputs": [
    {
     "data": {
      "text/html": [
       "<div>\n",
       "<style scoped>\n",
       "    .dataframe tbody tr th:only-of-type {\n",
       "        vertical-align: middle;\n",
       "    }\n",
       "\n",
       "    .dataframe tbody tr th {\n",
       "        vertical-align: top;\n",
       "    }\n",
       "\n",
       "    .dataframe thead th {\n",
       "        text-align: right;\n",
       "    }\n",
       "</style>\n",
       "<table border=\"1\" class=\"dataframe\">\n",
       "  <thead>\n",
       "    <tr style=\"text-align: right;\">\n",
       "      <th></th>\n",
       "      <th>date</th>\n",
       "      <th>state</th>\n",
       "      <th>vehicle_category</th>\n",
       "      <th>electric_vehicles_sold</th>\n",
       "      <th>total_vehicles_sold</th>\n",
       "    </tr>\n",
       "  </thead>\n",
       "  <tbody>\n",
       "    <tr>\n",
       "      <th>0</th>\n",
       "      <td>01-Apr-21</td>\n",
       "      <td>Sikkim</td>\n",
       "      <td>2-Wheelers</td>\n",
       "      <td>0</td>\n",
       "      <td>398</td>\n",
       "    </tr>\n",
       "    <tr>\n",
       "      <th>1</th>\n",
       "      <td>01-Apr-21</td>\n",
       "      <td>Sikkim</td>\n",
       "      <td>4-Wheelers</td>\n",
       "      <td>0</td>\n",
       "      <td>361</td>\n",
       "    </tr>\n",
       "    <tr>\n",
       "      <th>2</th>\n",
       "      <td>01-May-21</td>\n",
       "      <td>Sikkim</td>\n",
       "      <td>2-Wheelers</td>\n",
       "      <td>0</td>\n",
       "      <td>113</td>\n",
       "    </tr>\n",
       "    <tr>\n",
       "      <th>3</th>\n",
       "      <td>01-May-21</td>\n",
       "      <td>Sikkim</td>\n",
       "      <td>4-Wheelers</td>\n",
       "      <td>0</td>\n",
       "      <td>98</td>\n",
       "    </tr>\n",
       "    <tr>\n",
       "      <th>4</th>\n",
       "      <td>01-Jun-21</td>\n",
       "      <td>Sikkim</td>\n",
       "      <td>2-Wheelers</td>\n",
       "      <td>0</td>\n",
       "      <td>229</td>\n",
       "    </tr>\n",
       "  </tbody>\n",
       "</table>\n",
       "</div>"
      ],
      "text/plain": [
       "        date   state vehicle_category  electric_vehicles_sold  \\\n",
       "0  01-Apr-21  Sikkim       2-Wheelers                       0   \n",
       "1  01-Apr-21  Sikkim       4-Wheelers                       0   \n",
       "2  01-May-21  Sikkim       2-Wheelers                       0   \n",
       "3  01-May-21  Sikkim       4-Wheelers                       0   \n",
       "4  01-Jun-21  Sikkim       2-Wheelers                       0   \n",
       "\n",
       "   total_vehicles_sold  \n",
       "0                  398  \n",
       "1                  361  \n",
       "2                  113  \n",
       "3                   98  \n",
       "4                  229  "
      ]
     },
     "execution_count": 26,
     "metadata": {},
     "output_type": "execute_result"
    }
   ],
   "source": [
    "electricVehiclesbyStates.head()"
   ]
  },
  {
   "cell_type": "code",
   "execution_count": 27,
   "id": "35cfb92e-ecbf-45cf-96cf-b5fd83268991",
   "metadata": {},
   "outputs": [],
   "source": [
    "electricVehiclesbyStates.date = pd.to_datetime(electricVehiclesbyStates.date, format = \"%d-%b-%y\")"
   ]
  },
  {
   "cell_type": "code",
   "execution_count": 28,
   "id": "973063d6-3ef3-466c-b2b2-32546cd2a204",
   "metadata": {},
   "outputs": [
    {
     "name": "stdout",
     "output_type": "stream",
     "text": [
      "datetime64[ns]\n"
     ]
    }
   ],
   "source": [
    "print(electricVehiclesbyStates.date.dtype)"
   ]
  },
  {
   "cell_type": "code",
   "execution_count": 29,
   "id": "bb3cab1c-28fd-4663-804a-5a930079a12b",
   "metadata": {},
   "outputs": [
    {
     "data": {
      "text/plain": [
       "35"
      ]
     },
     "execution_count": 29,
     "metadata": {},
     "output_type": "execute_result"
    }
   ],
   "source": [
    "electricVehiclesbyStates.state.nunique()"
   ]
  },
  {
   "cell_type": "code",
   "execution_count": 30,
   "id": "563e059d-0309-4581-ad5d-b42d19374397",
   "metadata": {
    "scrolled": true
   },
   "outputs": [
    {
     "name": "stdout",
     "output_type": "stream",
     "text": [
      "Sikkim\n",
      "Andaman & Nicobar Island\n",
      "Arunachal Pradesh\n",
      "Assam\n",
      "Chhattisgarh\n",
      "DNH and DD\n",
      "Jammu and Kashmir\n",
      "Ladakh\n",
      "Manipur\n",
      "Meghalaya\n",
      "Mizoram\n",
      "Nagaland\n",
      "Puducherry\n",
      "Tripura\n",
      "Bihar\n",
      "Chandigarh\n",
      "Delhi\n",
      "Madhya Pradesh\n",
      "Odisha\n",
      "Punjab\n",
      "Uttarakhand\n",
      "Himachal Pradesh\n",
      "Andaman & Nicobar\n",
      "Haryana\n",
      "Jharkhand\n",
      "Andhra Pradesh\n",
      "Goa\n",
      "Gujarat\n",
      "Karnataka\n",
      "Kerala\n",
      "Maharashtra\n",
      "Rajasthan\n",
      "Tamil Nadu\n",
      "Uttar Pradesh\n",
      "West Bengal\n"
     ]
    }
   ],
   "source": [
    "for state in electricVehiclesbyStates.state.unique():\n",
    "    print(state, end = \"\\n\")"
   ]
  },
  {
   "cell_type": "code",
   "execution_count": 31,
   "id": "c05aba19-2053-410d-ad2e-cb0e8382a27c",
   "metadata": {},
   "outputs": [],
   "source": [
    "electricVehiclesbyStates.state.replace({\"Andaman & Nicobar Island\" : \"Andaman & Nicobar\"}, inplace = True)"
   ]
  },
  {
   "cell_type": "code",
   "execution_count": 32,
   "id": "709c28df-d699-4920-a0f7-8c55ec256e01",
   "metadata": {},
   "outputs": [
    {
     "data": {
      "text/plain": [
       "34"
      ]
     },
     "execution_count": 32,
     "metadata": {},
     "output_type": "execute_result"
    }
   ],
   "source": [
    "electricVehiclesbyStates.state.nunique()"
   ]
  },
  {
   "cell_type": "markdown",
   "id": "2b139a65-21c0-496e-a445-8d864f7982ad",
   "metadata": {},
   "source": [
    "### EDA"
   ]
  },
  {
   "cell_type": "code",
   "execution_count": 33,
   "id": "6ef15c5e-f569-48a3-8142-9fe2a2b8d7e5",
   "metadata": {},
   "outputs": [
    {
     "name": "stdout",
     "output_type": "stream",
     "text": [
      "\u001b[1m Total Vehicles Sold:\u001b[0m 57.22MM\n",
      "\u001b[1m Total Electric Vehicles Sold:\u001b[0m 2.07M\n",
      "\u001b[1m EV Penetration Rate:\u001b[0m 3.62%\n"
     ]
    }
   ],
   "source": [
    "totalVehiclesSold = round(electricVehiclesbyStates.total_vehicles_sold.sum()/ 1000000, 2)\n",
    "electricVehiclesSold = round(electricVehiclesbyMakers.electric_vehicles_sold.sum()/ 1000000, 2)\n",
    "evPenetrationRate = round(electricVehiclesSold/ totalVehiclesSold * 100, 2) \n",
    "\n",
    "print(\"\\033[1m Total Vehicles Sold:\\033[0m {}M\".format(totalVehiclesSold) + \"M\")\n",
    "print(\"\\033[1m Total Electric Vehicles Sold:\\033[0m {}\".format(electricVehiclesSold)  + \"M\")\n",
    "print(\"\\033[1m EV Penetration Rate:\\033[0m {}\".format(evPenetrationRate)  + \"%\")"
   ]
  },
  {
   "cell_type": "markdown",
   "id": "5890a717-4861-4cee-b7ca-8b1ed15307ab",
   "metadata": {},
   "source": [
    "### Merging dateTable with electricVehiclesbyStates"
   ]
  },
  {
   "cell_type": "code",
   "execution_count": 34,
   "id": "78cbc537-2081-4779-aeb7-e228a739bf6b",
   "metadata": {},
   "outputs": [],
   "source": [
    "dateStatesTable = dateTable.merge(electricVehiclesbyStates, on = 'date', how = \"inner\")"
   ]
  },
  {
   "cell_type": "markdown",
   "id": "c92eae2f-dfc7-491a-b8b1-a5ae35502dc5",
   "metadata": {},
   "source": [
    "### Merging dateTable with electricVehiclesbyMakers"
   ]
  },
  {
   "cell_type": "code",
   "execution_count": 35,
   "id": "e0140602-d660-446c-9710-81e5b465abb8",
   "metadata": {},
   "outputs": [],
   "source": [
    "dateMakersTable = dateTable.merge(electricVehiclesbyMakers, on = 'date', how = \"inner\")"
   ]
  },
  {
   "cell_type": "code",
   "execution_count": 36,
   "id": "5b2b9adb-9264-4508-83e5-2b1565687877",
   "metadata": {},
   "outputs": [
    {
     "data": {
      "text/html": [
       "<div>\n",
       "<style scoped>\n",
       "    .dataframe tbody tr th:only-of-type {\n",
       "        vertical-align: middle;\n",
       "    }\n",
       "\n",
       "    .dataframe tbody tr th {\n",
       "        vertical-align: top;\n",
       "    }\n",
       "\n",
       "    .dataframe thead th {\n",
       "        text-align: right;\n",
       "    }\n",
       "</style>\n",
       "<table border=\"1\" class=\"dataframe\">\n",
       "  <thead>\n",
       "    <tr style=\"text-align: right;\">\n",
       "      <th></th>\n",
       "      <th>date</th>\n",
       "      <th>fiscal_year</th>\n",
       "      <th>quarter</th>\n",
       "      <th>month no</th>\n",
       "      <th>month name</th>\n",
       "      <th>state</th>\n",
       "      <th>vehicle_category</th>\n",
       "      <th>electric_vehicles_sold</th>\n",
       "      <th>total_vehicles_sold</th>\n",
       "    </tr>\n",
       "  </thead>\n",
       "  <tbody>\n",
       "    <tr>\n",
       "      <th>0</th>\n",
       "      <td>2021-04-01</td>\n",
       "      <td>2022</td>\n",
       "      <td>Q1</td>\n",
       "      <td>4</td>\n",
       "      <td>Apr</td>\n",
       "      <td>Sikkim</td>\n",
       "      <td>2-Wheelers</td>\n",
       "      <td>0</td>\n",
       "      <td>398</td>\n",
       "    </tr>\n",
       "    <tr>\n",
       "      <th>1</th>\n",
       "      <td>2021-04-01</td>\n",
       "      <td>2022</td>\n",
       "      <td>Q1</td>\n",
       "      <td>4</td>\n",
       "      <td>Apr</td>\n",
       "      <td>Sikkim</td>\n",
       "      <td>4-Wheelers</td>\n",
       "      <td>0</td>\n",
       "      <td>361</td>\n",
       "    </tr>\n",
       "    <tr>\n",
       "      <th>2</th>\n",
       "      <td>2021-04-01</td>\n",
       "      <td>2022</td>\n",
       "      <td>Q1</td>\n",
       "      <td>4</td>\n",
       "      <td>Apr</td>\n",
       "      <td>Andaman &amp; Nicobar</td>\n",
       "      <td>2-Wheelers</td>\n",
       "      <td>0</td>\n",
       "      <td>515</td>\n",
       "    </tr>\n",
       "    <tr>\n",
       "      <th>3</th>\n",
       "      <td>2021-04-01</td>\n",
       "      <td>2022</td>\n",
       "      <td>Q1</td>\n",
       "      <td>4</td>\n",
       "      <td>Apr</td>\n",
       "      <td>Arunachal Pradesh</td>\n",
       "      <td>2-Wheelers</td>\n",
       "      <td>0</td>\n",
       "      <td>1256</td>\n",
       "    </tr>\n",
       "    <tr>\n",
       "      <th>4</th>\n",
       "      <td>2021-04-01</td>\n",
       "      <td>2022</td>\n",
       "      <td>Q1</td>\n",
       "      <td>4</td>\n",
       "      <td>Apr</td>\n",
       "      <td>Arunachal Pradesh</td>\n",
       "      <td>4-Wheelers</td>\n",
       "      <td>0</td>\n",
       "      <td>724</td>\n",
       "    </tr>\n",
       "  </tbody>\n",
       "</table>\n",
       "</div>"
      ],
      "text/plain": [
       "        date  fiscal_year quarter  month no month name              state  \\\n",
       "0 2021-04-01         2022      Q1         4        Apr             Sikkim   \n",
       "1 2021-04-01         2022      Q1         4        Apr             Sikkim   \n",
       "2 2021-04-01         2022      Q1         4        Apr  Andaman & Nicobar   \n",
       "3 2021-04-01         2022      Q1         4        Apr  Arunachal Pradesh   \n",
       "4 2021-04-01         2022      Q1         4        Apr  Arunachal Pradesh   \n",
       "\n",
       "  vehicle_category  electric_vehicles_sold  total_vehicles_sold  \n",
       "0       2-Wheelers                       0                  398  \n",
       "1       4-Wheelers                       0                  361  \n",
       "2       2-Wheelers                       0                  515  \n",
       "3       2-Wheelers                       0                 1256  \n",
       "4       4-Wheelers                       0                  724  "
      ]
     },
     "execution_count": 36,
     "metadata": {},
     "output_type": "execute_result"
    }
   ],
   "source": [
    "dateStatesTable.head()"
   ]
  },
  {
   "cell_type": "code",
   "execution_count": 37,
   "id": "1926d5ef-c974-4c98-9d03-72c264c1e765",
   "metadata": {},
   "outputs": [],
   "source": [
    "EVsSoldbyMonth = dateStatesTable.groupby([\"month no\", \"month name\"])[\"total_vehicles_sold\"].sum().reset_index().sort_values(\"month no\")"
   ]
  },
  {
   "cell_type": "code",
   "execution_count": 38,
   "id": "1e011beb-49b0-44e7-b870-fe1b8ba5cf0a",
   "metadata": {},
   "outputs": [
    {
     "data": {
      "image/png": "[encoded data removed]",
      "text/plain": [
       "<Figure size 1200x400 with 1 Axes>"
      ]
     },
     "metadata": {},
     "output_type": "display_data"
    }
   ],
   "source": [
    "maxValue = EVsSoldbyMonth[\"total_vehicles_sold\"].max()\n",
    "maxMonth = EVsSoldbyMonth[EVsSoldbyMonth[\"total_vehicles_sold\"] == maxValue][\"month name\"].values[0]\n",
    "minValue = EVsSoldbyMonth[\"total_vehicles_sold\"].min()\n",
    "minMonth = EVsSoldbyMonth[EVsSoldbyMonth[\"total_vehicles_sold\"] == minValue][\"month name\"].values[0]\n",
    "\n",
    "\n",
    "plt.figure(figsize = (12, 4))\n",
    "\n",
    "plt.plot(EVsSoldbyMonth[\"month name\"], EVsSoldbyMonth[\"total_vehicles_sold\"])\n",
    "plt.scatter(maxMonth, maxValue, marker = \"o\", s = 20, color = 'green', zorder = 2, label = \"Max Value\")\n",
    "plt.scatter(minMonth, minValue, marker = \"o\", s = 20, color = 'red', zorder = 2, label = \"Max Value\")\n",
    "\n",
    "plt.xlabel(\"Month\")\n",
    "plt.ylabel(\"Total Vehicles Sold\")\n",
    "plt.title(\"Total Vehicles Sold Monthly Trend\")\n",
    "plt.show()"
   ]
  },
  {
   "cell_type": "code",
   "execution_count": 39,
   "id": "baa75fbc-7965-4785-a358-f24acc183ffc",
   "metadata": {},
   "outputs": [
    {
     "data": {
      "image/png": "[encoded data removed]",
      "text/plain": [
       "<Figure size 1000x400 with 1 Axes>"
      ]
     },
     "metadata": {},
     "output_type": "display_data"
    }
   ],
   "source": [
    "EVsSoldbyMakers = dateMakersTable.groupby([\"fiscal_year\", \"maker\", \"vehicle_category\"])[\"electric_vehicles_sold\"].sum().reset_index().sort_values(\"electric_vehicles_sold\", ascending = False)\n",
    "\n",
    "plt.figure(figsize = (10, 4))\n",
    "plt.bar(EVsSoldbyMakers['maker'],EVsSoldbyMakers['electric_vehicles_sold'])\n",
    "plt.xticks(rotation = 90)\n",
    "plt.xlabel(\"Makers\")\n",
    "plt.ylabel(\"Electric Vehicles Sold\")\n",
    "plt.title(\"Electric Vehicles Sold by Makers\")\n",
    "plt.show()"
   ]
  },
  {
   "cell_type": "markdown",
   "id": "602d7af0-8d7c-4cee-a3cf-0046b910b54d",
   "metadata": {},
   "source": [
    "#### 1. List the top 3 and bottom 3 makers for the fiscal years 2023 and 2024 in terms of the number of 2-wheelers sold."
   ]
  },
  {
   "cell_type": "code",
   "execution_count": 40,
   "id": "2a4140a2-b9b6-4eba-868c-3579ba65a7a9",
   "metadata": {},
   "outputs": [
    {
     "name": "stdout",
     "output_type": "stream",
     "text": [
      "\u001b[1m Top 3 makers for fiscal year 2023(2-Wheelers)\u001b[0m:\n",
      "           maker       2023\n",
      "                 2-Wheelers\n",
      "0   Ola Electric   152583.0\n",
      "1        Okinawa    96945.0\n",
      "2  Hero Electric    88993.0\n",
      "\n",
      "\u001b[1m Top 3 makers for fiscal year 2024(2-Wheelers)\u001b[0m:\n",
      "          maker       2024\n",
      "                2-Wheelers\n",
      "0  Ola Electric   322489.0\n",
      "1           Tvs   180743.0\n",
      "2         Ather   107552.0\n",
      "\n",
      "\u001b[1m Bottom 3 makers for fiscal year 2023(2-Wheelers)\u001b[0m:\n",
      "      maker       2023\n",
      "            2-Wheelers\n",
      "0  Jitendra     8563.0\n",
      "1     Being    11018.0\n",
      "2   Pure Ev    11556.0\n",
      "\n",
      "\u001b[1m Bottom 3 makers for fiscal year 2024(2-Wheelers)\u001b[0m:\n",
      "             maker       2024\n",
      "                   2-Wheelers\n",
      "0  Battre Electric     4841.0\n",
      "1           Revolt     7254.0\n",
      "2    Kinetic Green     9585.0\n"
     ]
    }
   ],
   "source": [
    "EVsSoldFY = EVsSoldbyMakers.pivot(columns = ['fiscal_year', 'vehicle_category'], index = 'maker', values = \"electric_vehicles_sold\")\n",
    "\n",
    "print(\"\\033[1m Top 3 makers for fiscal year 2023(2-Wheelers)\\033[0m:\")\n",
    "print(EVsSoldFY[(2023, \"2-Wheelers\")].sort_values(ascending = False).head(3).reset_index())\n",
    "\n",
    "print(\"\\n\\033[1m Top 3 makers for fiscal year 2024(2-Wheelers)\\033[0m:\")\n",
    "print(EVsSoldFY[(2024, \"2-Wheelers\")].sort_values(ascending = False).head(3).reset_index())\n",
    "\n",
    "print(\"\\n\\033[1m Bottom 3 makers for fiscal year 2023(2-Wheelers)\\033[0m:\")\n",
    "print(EVsSoldFY[(2023, \"2-Wheelers\")].sort_values().head(3).reset_index())\n",
    "\n",
    "print(\"\\n\\033[1m Bottom 3 makers for fiscal year 2024(2-Wheelers)\\033[0m:\")\n",
    "print(EVsSoldFY[(2024, \"2-Wheelers\")].sort_values().head(3).reset_index())"
   ]
  },
  {
   "cell_type": "markdown",
   "id": "ffeeb7e7-4a86-43b2-bc6e-24d14b6d6fbb",
   "metadata": {},
   "source": [
    "#### 2. Identify the top 5 states with the highest penetration rate in 2-wheeler and 4-wheeler EV sales in FY 2024."
   ]
  },
  {
   "cell_type": "code",
   "execution_count": 41,
   "id": "685e214f-53be-496c-9644-2ba1264e5750",
   "metadata": {},
   "outputs": [],
   "source": [
    "statesPivot = dateStatesTable.groupby(['fiscal_year', 'state', 'vehicle_category'])[[\"electric_vehicles_sold\", \"total_vehicles_sold\"]].sum().reset_index()"
   ]
  },
  {
   "cell_type": "code",
   "execution_count": 42,
   "id": "3e18aabe-52b4-4ee7-b12f-eee91b34e305",
   "metadata": {},
   "outputs": [],
   "source": [
    "statesPivot[\"ev_penetration\"] = round((statesPivot.electric_vehicles_sold/ statesPivot.total_vehicles_sold) * 100, 2)"
   ]
  },
  {
   "cell_type": "code",
   "execution_count": 43,
   "id": "e2cea18f-1c9d-40bf-aeb9-79dd869eab0a",
   "metadata": {},
   "outputs": [
    {
     "name": "stdout",
     "output_type": "stream",
     "text": [
      "\u001b[1m Top 5 states with the highest penetration rate in 2-wheeler in FY 2024\u001b[0m:\n",
      "          state  ev_penetration\n",
      "9           Goa           17.99\n",
      "16       Kerala           13.52\n",
      "15    Karnataka           11.57\n",
      "19  Maharashtra           10.07\n",
      "8         Delhi            9.40\n",
      "\n",
      "\u001b[1m Top 5 states with the highest penetration rate in 4-wheeler in FY 2024\u001b[0m:\n",
      "         state  ev_penetration\n",
      "16      Kerala            5.76\n",
      "5   Chandigarh            4.50\n",
      "8        Delhi            4.29\n",
      "15   Karnataka            4.26\n",
      "9          Goa            4.25\n"
     ]
    }
   ],
   "source": [
    "print(\"\\033[1m Top 5 states with the highest penetration rate in 2-wheeler in FY 2024\\033[0m:\")\n",
    "print(statesPivot[statesPivot['fiscal_year'] == 2024].query(\"vehicle_category == '2-Wheelers'\").reset_index()[['state', 'ev_penetration']].sort_values(by = \"ev_penetration\", ascending = False).head(5))\n",
    "\n",
    "print(\"\\n\\033[1m Top 5 states with the highest penetration rate in 4-wheeler in FY 2024\\033[0m:\")\n",
    "print(statesPivot[statesPivot['fiscal_year'] == 2024].query(\"vehicle_category == '4-Wheelers'\").reset_index()[['state', 'ev_penetration']].sort_values(by = \"ev_penetration\", ascending = False).head())"
   ]
  },
  {
   "cell_type": "markdown",
   "id": "f9915134-4d7e-442a-9cc1-cbeb15c5d4d5",
   "metadata": {},
   "source": [
    "#### 3. List the states with negative penetration (decline) in EV sales from 2022 to 2024?"
   ]
  },
  {
   "cell_type": "code",
   "execution_count": 44,
   "id": "24d61dbe-c14e-415f-9b9c-5c474ca058a1",
   "metadata": {},
   "outputs": [
    {
     "data": {
      "text/html": [
       "<div>\n",
       "<style scoped>\n",
       "    .dataframe tbody tr th:only-of-type {\n",
       "        vertical-align: middle;\n",
       "    }\n",
       "\n",
       "    .dataframe tbody tr th {\n",
       "        vertical-align: top;\n",
       "    }\n",
       "\n",
       "    .dataframe thead th {\n",
       "        text-align: right;\n",
       "    }\n",
       "</style>\n",
       "<table border=\"1\" class=\"dataframe\">\n",
       "  <thead>\n",
       "    <tr style=\"text-align: right;\">\n",
       "      <th>fiscal_year</th>\n",
       "      <th>state</th>\n",
       "      <th>2022</th>\n",
       "      <th>2024</th>\n",
       "      <th>EVPenetrationDifference</th>\n",
       "    </tr>\n",
       "  </thead>\n",
       "  <tbody>\n",
       "    <tr>\n",
       "      <th>0</th>\n",
       "      <td>Andaman &amp; Nicobar</td>\n",
       "      <td>0.94</td>\n",
       "      <td>0.575</td>\n",
       "      <td>-0.36</td>\n",
       "    </tr>\n",
       "    <tr>\n",
       "      <th>17</th>\n",
       "      <td>Ladakh</td>\n",
       "      <td>2.24</td>\n",
       "      <td>2.030</td>\n",
       "      <td>-0.21</td>\n",
       "    </tr>\n",
       "  </tbody>\n",
       "</table>\n",
       "</div>"
      ],
      "text/plain": [
       "fiscal_year              state  2022   2024  EVPenetrationDifference\n",
       "0            Andaman & Nicobar  0.94  0.575                    -0.36\n",
       "17                      Ladakh  2.24  2.030                    -0.21"
      ]
     },
     "execution_count": 44,
     "metadata": {},
     "output_type": "execute_result"
    }
   ],
   "source": [
    "statesEVPivot = statesPivot.pivot_table(index = 'state', columns = 'fiscal_year', values = 'ev_penetration').reset_index()\n",
    "statesEVPivotFiltered = statesEVPivot[['state', 2022, 2024]]\n",
    "statesEVPivotFiltered[\"EVPenetrationDifference\"] = round(statesEVPivotFiltered[2024] - statesEVPivotFiltered[2022], 2)\n",
    "\n",
    "statesEVPivotFiltered[statesEVPivotFiltered[\"EVPenetrationDifference\"] < 0]"
   ]
  },
  {
   "cell_type": "markdown",
   "id": "ee28d1ae-c67e-4553-922a-9cb1189374a1",
   "metadata": {},
   "source": [
    "#### 4. What are the quarterly trends based on sales volume for the top 5 EV makers (4-wheelers) from 2022 to 2024?"
   ]
  },
  {
   "cell_type": "code",
   "execution_count": 45,
   "id": "cc3fe26d-58ce-4392-9404-4e1ec4b03487",
   "metadata": {},
   "outputs": [
    {
     "name": "stdout",
     "output_type": "stream",
     "text": [
      "\u001b[1mTop 5 Makers(4-Wheelers): \u001b[0m\n",
      "Tata Motors\n",
      "Mahindra & Mahindra\n",
      "Mg Motor\n",
      "Byd India\n",
      "Hyundai Motor\n",
      "\n",
      "\n"
     ]
    },
    {
     "data": {
      "image/png": "[encoded data removed]",
      "text/plain": [
       "<Figure size 1200x600 with 1 Axes>"
      ]
     },
     "metadata": {},
     "output_type": "display_data"
    }
   ],
   "source": [
    "Top5EVMakers = dateMakersTable[dateMakersTable['vehicle_category'] == \"4-Wheelers\"].groupby('maker')['electric_vehicles_sold'].sum().sort_values(ascending = False).head().reset_index()\n",
    "dateMakersFiltered = dateMakersTable[dateMakersTable[\"maker\"].isin(Top5EVMakers['maker'])]\n",
    "\n",
    "print(\"\\033[1mTop 5 Makers(4-Wheelers): \\033[0m\")\n",
    "for maker in Top5EVMakers['maker']:\n",
    "    print(maker)\n",
    "\n",
    "print(\"\\n\")\n",
    "\n",
    "dateMakersFilteredPivot = dateMakersFiltered.groupby(['maker', \"quarter\"])['electric_vehicles_sold'].sum().reset_index()\n",
    "\n",
    "makers = dateMakersFiltered['maker'].unique()\n",
    "\n",
    "plt.figure(figsize = (12, 6))\n",
    "for maker in makers:\n",
    "    subset = dateMakersFilteredPivot[dateMakersFilteredPivot['maker'] == maker]\n",
    "    plt.plot(subset[\"quarter\"], subset['electric_vehicles_sold'], marker = 'x', label = maker)\n",
    "\n",
    "plt.xlabel(\"Quarter\")\n",
    "plt.ylabel(\"EV sold volume\")\n",
    "plt.legend(title = \"Maker\")\n",
    "plt.title(\"Quarterly trends based on sales volume for the top 5 EV makers (4-wheelers) from 2022 to 2024\")\n",
    "plt.show()"
   ]
  },
  {
   "cell_type": "markdown",
   "id": "0f9602f3-a607-4b78-b229-16774506eaef",
   "metadata": {},
   "source": [
    "#### 5. How do the EV sales and penetration rates in Delhi compare to Karnataka for 2024?"
   ]
  },
  {
   "cell_type": "code",
   "execution_count": 46,
   "id": "3bda4b42-d603-400d-a863-8303d4bf7ef7",
   "metadata": {},
   "outputs": [
    {
     "name": "stdout",
     "output_type": "stream",
     "text": [
      "\u001b[1mEV Sales & Penetration Rate(Delhi vs Karnataka)\u001b[0m\n",
      "\n"
     ]
    },
    {
     "data": {
      "text/html": [
       "<div>\n",
       "<style scoped>\n",
       "    .dataframe tbody tr th:only-of-type {\n",
       "        vertical-align: middle;\n",
       "    }\n",
       "\n",
       "    .dataframe tbody tr th {\n",
       "        vertical-align: top;\n",
       "    }\n",
       "\n",
       "    .dataframe thead th {\n",
       "        text-align: right;\n",
       "    }\n",
       "</style>\n",
       "<table border=\"1\" class=\"dataframe\">\n",
       "  <thead>\n",
       "    <tr style=\"text-align: right;\">\n",
       "      <th></th>\n",
       "      <th>state</th>\n",
       "      <th>electric_vehicles_sold</th>\n",
       "      <th>total_vehicles_sold</th>\n",
       "      <th>ev_penetration</th>\n",
       "    </tr>\n",
       "  </thead>\n",
       "  <tbody>\n",
       "    <tr>\n",
       "      <th>0</th>\n",
       "      <td>Delhi</td>\n",
       "      <td>46724</td>\n",
       "      <td>606348</td>\n",
       "      <td>7.71%</td>\n",
       "    </tr>\n",
       "    <tr>\n",
       "      <th>1</th>\n",
       "      <td>Karnataka</td>\n",
       "      <td>160989</td>\n",
       "      <td>1581988</td>\n",
       "      <td>10.18%</td>\n",
       "    </tr>\n",
       "  </tbody>\n",
       "</table>\n",
       "</div>"
      ],
      "text/plain": [
       "       state  electric_vehicles_sold  total_vehicles_sold ev_penetration\n",
       "0      Delhi                   46724               606348          7.71%\n",
       "1  Karnataka                  160989              1581988         10.18%"
      ]
     },
     "execution_count": 46,
     "metadata": {},
     "output_type": "execute_result"
    }
   ],
   "source": [
    "print(\"\\033[1mEV Sales & Penetration Rate(Delhi vs Karnataka)\\033[0m\\n\")\n",
    "statesPivotDK = dateStatesTable.query(\"fiscal_year == 2024\")[dateStatesTable[\"state\"].isin(['Delhi', 'Karnataka'])].groupby('state')[[\"electric_vehicles_sold\", \"total_vehicles_sold\"]].sum().reset_index()\n",
    "statesPivotDK['ev_penetration'] = round((statesPivotDK['electric_vehicles_sold']/ statesPivotDK['total_vehicles_sold']) * 100, 2).astype(str) + \"%\"\n",
    "statesPivotDK"
   ]
  },
  {
   "cell_type": "markdown",
   "id": "12cab7e0-5b4a-4251-b461-388898faadcb",
   "metadata": {},
   "source": [
    "#### 6. List down the compounded annual growth rate (CAGR) in 4-wheeler units for the top 5 makers from 2022 to 2024."
   ]
  },
  {
   "cell_type": "code",
   "execution_count": 47,
   "id": "8a92b9b2-bf23-48ac-a22f-91aba52a841f",
   "metadata": {},
   "outputs": [
    {
     "name": "stdout",
     "output_type": "stream",
     "text": [
      "\u001b[1mCAGR for top 5 makers(4-Wheelers):\u001b[0m\n",
      "\n",
      "                 maker electric_vehicles_sold\n",
      "0            Byd India                566.52%\n",
      "1        Hyundai Motor                255.48%\n",
      "2  Mahindra & Mahindra                140.33%\n",
      "3             Mg Motor                131.53%\n",
      "4          Tata Motors                 94.71%\n"
     ]
    }
   ],
   "source": [
    "fourWheelersTable = dateMakersTable.query(\"vehicle_category == '4-Wheelers'\")\n",
    "fourWheelerstopfive = fourWheelersTable.groupby('maker')['electric_vehicles_sold'].sum().sort_values(ascending = False).reset_index().head()\n",
    "filtered = fourWheelersTable[fourWheelersTable['maker'].isin(fourWheelerstopfive.maker)]\n",
    "\n",
    "\n",
    "beginingValue = filtered.query(\"fiscal_year == 2022\").groupby('maker')['electric_vehicles_sold'].sum()\n",
    "endingValue = filtered.query(\"fiscal_year == 2024\").groupby('maker')['electric_vehicles_sold'].sum()\n",
    "\n",
    "CAGRtopFive = round((((endingValue/ beginingValue) ** (1/ (2024 - 2022))) - 1) * 100, 2).astype(str) + \"%\"\n",
    "\n",
    "print(\"\\033[1mCAGR for top 5 makers(4-Wheelers):\\033[0m\\n\")\n",
    "print(CAGRtopFive.reset_index())"
   ]
  },
  {
   "cell_type": "markdown",
   "id": "531ad10f-7aba-43f1-88e1-026fe3a6ac2c",
   "metadata": {},
   "source": [
    "#### 7. List down the top 10 states that had the highest compounded annual growth rate (CAGR) from 2022 to 2024 in total vehicles sold."
   ]
  },
  {
   "cell_type": "code",
   "execution_count": 48,
   "id": "fd99403f-f636-4f17-8e5d-ee5ac1fc5309",
   "metadata": {},
   "outputs": [
    {
     "name": "stdout",
     "output_type": "stream",
     "text": [
      "\u001b[1mTop 10 states with highest CAGR in total Vehicles Sold:\u001b[0m\n",
      "\n",
      "               state   CAGR\n",
      "0          Meghalaya  28.47\n",
      "1                Goa  27.41\n",
      "2          Karnataka  25.28\n",
      "3              Delhi  22.88\n",
      "4          Rajasthan  21.50\n",
      "5            Gujarat  20.55\n",
      "6              Assam  20.13\n",
      "7            Mizoram  18.77\n",
      "8  Arunachal Pradesh  18.30\n",
      "9  Andaman & Nicobar  18.29\n"
     ]
    }
   ],
   "source": [
    "beginingValueTV = dateStatesTable[dateStatesTable[\"fiscal_year\"] == 2022].groupby('state')['total_vehicles_sold'].sum()\n",
    "endingValueTV = dateStatesTable[dateStatesTable[\"fiscal_year\"] == 2024].groupby('state')['total_vehicles_sold'].sum()\n",
    "\n",
    "CAGR = round((((endingValueTV/ beginingValueTV) ** (1/ (2024 - 2022))) - 1) * 100, 2).sort_values(ascending = False).reset_index().rename(columns = {'total_vehicles_sold' : 'CAGR'})\n",
    "print(\"\\033[1mTop 10 states with highest CAGR in total Vehicles Sold:\\033[0m\\n\")\n",
    "print(CAGR.head(10))"
   ]
  },
  {
   "cell_type": "markdown",
   "id": "001cedf5-b01c-43f7-8978-aabeece2e74b",
   "metadata": {},
   "source": [
    "#### 8. What are the peak and low season months for EV sales based on the data from 2022 to 2024?"
   ]
  },
  {
   "cell_type": "code",
   "execution_count": 49,
   "id": "afcd2d61-a2ab-42f7-8f3b-394449d24a90",
   "metadata": {},
   "outputs": [
    {
     "data": {
      "image/png": "[encoded data removed]",
      "text/plain": [
       "<Figure size 1200x400 with 1 Axes>"
      ]
     },
     "metadata": {},
     "output_type": "display_data"
    }
   ],
   "source": [
    "month_order = ['Jan', 'Feb', 'Mar', 'Apr', 'May', 'Jun', 'Jul', 'Aug', 'Sep', 'Oct', 'Nov', 'Dec']\n",
    "dateStatesTable['month name'] = pd.Categorical(dateStatesTable['month name'], categories = month_order, ordered = True)\n",
    "\n",
    "EVsSoldbyMonth = dateStatesTable.groupby('month name')['electric_vehicles_sold'].sum().reset_index()\n",
    "EVsSoldbyMonth['month name'] = pd.Categorical(EVsSoldbyMonth['month name'], categories = month_order, ordered = True)\n",
    "\n",
    "maxValueEV = EVsSoldbyMonth['electric_vehicles_sold'].max()\n",
    "maxMonthEV = EVsSoldbyMonth[EVsSoldbyMonth['electric_vehicles_sold'] == maxValueEV]['month name'].values[0]\n",
    "\n",
    "minValueEV = EVsSoldbyMonth['electric_vehicles_sold'].min()\n",
    "minMonthEV = EVsSoldbyMonth[EVsSoldbyMonth['electric_vehicles_sold'] == minValueEV].min().values[0]\n",
    "\n",
    "\n",
    "\n",
    "plt.figure(figsize = (12, 4))\n",
    "plt.plot(EVsSoldbyMonth['month name'], EVsSoldbyMonth['electric_vehicles_sold'])\n",
    "plt.scatter(maxMonthEV, maxValueEV, color = 'orange', zorder = 2)\n",
    "plt.scatter(minMonthEV, minValueEV, color = 'red', zorder = 2)\n",
    "plt.show()"
   ]
  },
  {
   "cell_type": "markdown",
   "id": "96fd6469-a90d-4e75-a3d7-9040388e5114",
   "metadata": {},
   "source": [
    "#### 9. What is the projected number of EV sales (including 2-wheelers and 4-wheelers) for the top 10 states by penetration rate in 2030, based on the compounded annual growth rate (CAGR) from previous years?"
   ]
  },
  {
   "cell_type": "code",
   "execution_count": 50,
   "id": "1f64cfbf-d681-4018-94a6-bef5f26d7353",
   "metadata": {},
   "outputs": [
    {
     "name": "stdout",
     "output_type": "stream",
     "text": [
      "\u001b[1mProjected EV Sales in 2030\u001b[0m\n",
      "\n"
     ]
    },
    {
     "data": {
      "text/html": [
       "<div>\n",
       "<style scoped>\n",
       "    .dataframe tbody tr th:only-of-type {\n",
       "        vertical-align: middle;\n",
       "    }\n",
       "\n",
       "    .dataframe tbody tr th {\n",
       "        vertical-align: top;\n",
       "    }\n",
       "\n",
       "    .dataframe thead th {\n",
       "        text-align: right;\n",
       "    }\n",
       "</style>\n",
       "<table border=\"1\" class=\"dataframe\">\n",
       "  <thead>\n",
       "    <tr style=\"text-align: right;\">\n",
       "      <th></th>\n",
       "      <th>state</th>\n",
       "      <th>electric_vehicles_sold</th>\n",
       "      <th>CAGREVSales</th>\n",
       "      <th>projesctedEVSales</th>\n",
       "    </tr>\n",
       "  </thead>\n",
       "  <tbody>\n",
       "    <tr>\n",
       "      <th>6</th>\n",
       "      <td>Maharashtra</td>\n",
       "      <td>197169</td>\n",
       "      <td>101.89</td>\n",
       "      <td>13351421.0</td>\n",
       "    </tr>\n",
       "    <tr>\n",
       "      <th>5</th>\n",
       "      <td>Kerala</td>\n",
       "      <td>73938</td>\n",
       "      <td>132.83</td>\n",
       "      <td>11778808.0</td>\n",
       "    </tr>\n",
       "    <tr>\n",
       "      <th>3</th>\n",
       "      <td>Gujarat</td>\n",
       "      <td>84359</td>\n",
       "      <td>116.33</td>\n",
       "      <td>8646332.0</td>\n",
       "    </tr>\n",
       "    <tr>\n",
       "      <th>4</th>\n",
       "      <td>Karnataka</td>\n",
       "      <td>160989</td>\n",
       "      <td>93.24</td>\n",
       "      <td>8382593.0</td>\n",
       "    </tr>\n",
       "    <tr>\n",
       "      <th>7</th>\n",
       "      <td>Odisha</td>\n",
       "      <td>39118</td>\n",
       "      <td>102.94</td>\n",
       "      <td>2732641.0</td>\n",
       "    </tr>\n",
       "    <tr>\n",
       "      <th>2</th>\n",
       "      <td>Goa</td>\n",
       "      <td>10799</td>\n",
       "      <td>146.45</td>\n",
       "      <td>2419672.0</td>\n",
       "    </tr>\n",
       "    <tr>\n",
       "      <th>8</th>\n",
       "      <td>Rajasthan</td>\n",
       "      <td>66444</td>\n",
       "      <td>81.87</td>\n",
       "      <td>2404486.0</td>\n",
       "    </tr>\n",
       "    <tr>\n",
       "      <th>9</th>\n",
       "      <td>Tamil Nadu</td>\n",
       "      <td>94314</td>\n",
       "      <td>59.95</td>\n",
       "      <td>1579362.0</td>\n",
       "    </tr>\n",
       "    <tr>\n",
       "      <th>1</th>\n",
       "      <td>Delhi</td>\n",
       "      <td>46724</td>\n",
       "      <td>68.10</td>\n",
       "      <td>1054257.0</td>\n",
       "    </tr>\n",
       "    <tr>\n",
       "      <th>0</th>\n",
       "      <td>Chandigarh</td>\n",
       "      <td>2877</td>\n",
       "      <td>164.58</td>\n",
       "      <td>986920.0</td>\n",
       "    </tr>\n",
       "  </tbody>\n",
       "</table>\n",
       "</div>"
      ],
      "text/plain": [
       "         state  electric_vehicles_sold  CAGREVSales  projesctedEVSales\n",
       "6  Maharashtra                  197169       101.89         13351421.0\n",
       "5       Kerala                   73938       132.83         11778808.0\n",
       "3      Gujarat                   84359       116.33          8646332.0\n",
       "4    Karnataka                  160989        93.24          8382593.0\n",
       "7       Odisha                   39118       102.94          2732641.0\n",
       "2          Goa                   10799       146.45          2419672.0\n",
       "8    Rajasthan                   66444        81.87          2404486.0\n",
       "9   Tamil Nadu                   94314        59.95          1579362.0\n",
       "1        Delhi                   46724        68.10          1054257.0\n",
       "0   Chandigarh                    2877       164.58           986920.0"
      ]
     },
     "execution_count": 50,
     "metadata": {},
     "output_type": "execute_result"
    }
   ],
   "source": [
    "# Projected EV Sales \n",
    "\n",
    "top10StatesbyEVPenetration = statesPivot.groupby('state')['ev_penetration'].sum().sort_values(ascending = False).head(10).reset_index()\n",
    "\n",
    "beginingValueEVSales = dateStatesTable.query('fiscal_year == 2022')[dateStatesTable['state'].isin(top10StatesbyEVPenetration.state)].groupby('state')['electric_vehicles_sold'].sum().reset_index()\n",
    "endingValueEVSales = dateStatesTable.query('fiscal_year == 2024')[dateStatesTable['state'].isin(top10StatesbyEVPenetration.state)].groupby('state')['electric_vehicles_sold'].sum().reset_index()\n",
    "endingValueEVSales['CAGREVSales'] = round((((endingValueEVSales['electric_vehicles_sold']/ beginingValueEVSales['electric_vehicles_sold']) ** (1/ (2024 - 2022))) - 1) * 100, 2)\n",
    "endingValueEVSales['projesctedEVSales'] = round(endingValueEVSales['electric_vehicles_sold'] * ((endingValueEVSales['CAGREVSales'] / 100) + 1) ** 6, 0)\n",
    "\n",
    "print(\"\\033[1mProjected EV Sales in 2030\\033[0m\\n\")\n",
    "endingValueEVSales.sort_values(by = 'projesctedEVSales', ascending = False)"
   ]
  },
  {
   "cell_type": "markdown",
   "id": "b1a45469-1d4d-4fed-b1a7-5bf6de580f80",
   "metadata": {},
   "source": [
    "#### 10. Estimate the revenue growth rate of 4-wheeler and 2-wheelers EVs in India for 2022 vs 2024 and 2023 vs 2024, assuming an average unit price."
   ]
  },
  {
   "cell_type": "code",
   "execution_count": 51,
   "id": "1e6979dc-29d8-40af-ada0-7614526bac39",
   "metadata": {},
   "outputs": [
    {
     "name": "stdout",
     "output_type": "stream",
     "text": [
      "\u001b[1m2-Wheeler Growth Rate\u001b[0m\n",
      "\n",
      "\u001b[1m2022 vs 2024\u001b[0m\n",
      "269.28%\n",
      "\n",
      "\u001b[1m2023 vs 2024\u001b[0m\n",
      "28.13%\n",
      "\n",
      "\u001b[1m4-Wheeler Growth Rate\u001b[0m\n",
      "\n",
      "\u001b[1m2022 vs 2024\u001b[0m\n",
      "367.79%\n",
      "\n",
      "\u001b[1m2023 vs 2024\u001b[0m\n",
      "83.08%\n"
     ]
    }
   ],
   "source": [
    "# 2-Wheeler \n",
    "Revenue2024 = dateStatesTable.query('fiscal_year == 2024')[dateStatesTable['vehicle_category'] == '2-Wheelers']['electric_vehicles_sold'].sum() * 85000\n",
    "Revenue2023 = dateStatesTable.query('fiscal_year == 2023')[dateStatesTable['vehicle_category'] == '2-Wheelers']['electric_vehicles_sold'].sum() * 85000\n",
    "Revenue2022 = dateStatesTable.query('fiscal_year == 2022')[dateStatesTable['vehicle_category'] == '2-Wheelers']['electric_vehicles_sold'].sum() * 85000\n",
    "\n",
    "print(\"\\033[1m2-Wheeler Growth Rate\\033[0m\")\n",
    "print(\"\\n\\033[1m2022 vs 2024\\033[0m\")\n",
    "print(round(((Revenue2024 - Revenue2022)/ Revenue2022) * 100, 2).astype(str) + \"%\")\n",
    "\n",
    "print(\"\\n\\033[1m2023 vs 2024\\033[0m\")\n",
    "print(round(((Revenue2024 - Revenue2023)/ Revenue2023) * 100, 2).astype(str) + \"%\")\n",
    "\n",
    "\n",
    "# 4-Wheeler \n",
    "FRevenue2024 = dateStatesTable.query('fiscal_year == 2024')[dateStatesTable['vehicle_category'] == '4-Wheelers']['electric_vehicles_sold'].sum() * 1500000\n",
    "FRevenue2023 = dateStatesTable.query('fiscal_year == 2023')[dateStatesTable['vehicle_category'] == '4-Wheelers']['electric_vehicles_sold'].sum() * 1500000\n",
    "FRevenue2022 = dateStatesTable.query('fiscal_year == 2022')[dateStatesTable['vehicle_category'] == '4-Wheelers']['electric_vehicles_sold'].sum() * 1500000\n",
    "\n",
    "print(\"\\n\\033[1m4-Wheeler Growth Rate\\033[0m\")\n",
    "print(\"\\n\\033[1m2022 vs 2024\\033[0m\")\n",
    "print(round(((FRevenue2024 - FRevenue2022)/ FRevenue2022) * 100, 2).astype(str) + \"%\")\n",
    "\n",
    "print(\"\\n\\033[1m2023 vs 2024\\033[0m\")\n",
    "print(round(((FRevenue2024 - FRevenue2023)/ FRevenue2023) * 100, 2).astype(str) + \"%\")"
   ]
  },
  {
   "cell_type": "code",
   "execution_count": null,
   "id": "ac7c24d1-f6b2-4c33-8187-0c79d8a685f3",
   "metadata": {},
   "outputs": [],
   "source": []
  }
 ],
 "metadata": {
  "kernelspec": {
   "display_name": "Python 3 (ipykernel)",
   "language": "python",
   "name": "python3"
  },
  "language_info": {
   "codemirror_mode": {
    "name": "ipython",
    "version": 3
   },
   "file_extension": ".py",
   "mimetype": "text/x-python",
   "name": "python",
   "nbconvert_exporter": "python",
   "pygments_lexer": "ipython3",
   "version": "3.12.3"
  }
 },
 "nbformat": 4,
 "nbformat_minor": 5
}
